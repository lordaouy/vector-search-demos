{
 "cells": [
  {
   "cell_type": "code",
   "execution_count": 1,
   "metadata": {},
   "outputs": [
    {
     "name": "stdout",
     "output_type": "stream",
     "text": [
      "Data has been written to openai_foods_v1.json\n"
     ]
    }
   ],
   "source": [
    "import json\n",
    "\n",
    "# Path to your text file\n",
    "input_file_path = 'openai_foods_v1.txt'\n",
    "# Path to the JSON file you want to create\n",
    "output_file_path = 'openai_foods_v1.json'\n",
    "\n",
    "# Initialize an empty dictionary\n",
    "data = {}\n",
    "\n",
    "# Open the text file and read lines\n",
    "with open(input_file_path, 'r', encoding='utf-8') as file:\n",
    "    for line in file:\n",
    "        # Remove whitespace and newline characters\n",
    "        key = line.strip()\n",
    "        # Each key maps to an empty list\n",
    "        data[key] = []\n",
    "\n",
    "# Save the dictionary as a JSON file\n",
    "with open(output_file_path, 'w', encoding='utf-8') as json_file:\n",
    "    json.dump(data, json_file, ensure_ascii=False, indent=4)\n",
    "\n",
    "print(f'Data has been written to {output_file_path}')"
   ]
  },
  {
   "cell_type": "code",
   "execution_count": null,
   "metadata": {},
   "outputs": [],
   "source": []
  }
 ],
 "metadata": {
  "kernelspec": {
   "display_name": "Python 3",
   "language": "python",
   "name": "python3"
  },
  "language_info": {
   "codemirror_mode": {
    "name": "ipython",
    "version": 3
   },
   "file_extension": ".py",
   "mimetype": "text/x-python",
   "name": "python",
   "nbconvert_exporter": "python",
   "pygments_lexer": "ipython3",
   "version": "3.11.8"
  }
 },
 "nbformat": 4,
 "nbformat_minor": 2
}
